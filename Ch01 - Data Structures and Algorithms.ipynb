{
 "cells": [
  {
   "cell_type": "markdown",
   "metadata": {},
   "source": [
    "# Table of Content\n",
    "- [1.2 Unpacking Elements from Iterables of Arbitrary Length](#1.2)\n",
    "- [1.5 Implementing a Priority Queue](#1.5)\n",
    "- [1.6 Mapping Keys to Multiple Values in a Dictionary](#1.6)\n",
    "- [1.7 Keeping Dictionaries in Order](#1.7)\n",
    "- [1.9 Finding Commonalities in Two Dictionaries](#1.9)\n",
    "- **[1.11 Naming a Slice](#1.11)**\n",
    "- [1.15 Grouping Records Together Based on a Field](#1.15)\n",
    "- [1.18 Mapping Names to Sequence Elements](#1.18)\n",
    "- [1.20 Combining Multiple Mappings into a Single Mapping](#1.20)"
   ]
  },
  {
   "cell_type": "markdown",
   "metadata": {},
   "source": [
    "---\n",
    "## <a name=\"1.2\"></a>1.2 Unpacking Elements from Iterables of Arbitrary Length\n",
    "\n",
    "\n",
    "### Solution\n",
    "- Use \"Star Expression\""
   ]
  },
  {
   "cell_type": "code",
   "execution_count": 1,
   "metadata": {
    "collapsed": false
   },
   "outputs": [
    {
     "name": "stdout",
     "output_type": "stream",
     "text": [
      "[1, 2, 3, 4, 5]\n"
     ]
    }
   ],
   "source": [
    "list_of_numbers = [0, 1, 2, 3, 4, 5, 6]\n",
    "_, *mid, _ = list_of_numbers\n",
    "print(mid)"
   ]
  },
  {
   "cell_type": "markdown",
   "metadata": {},
   "source": [
    "---\n",
    "## <a name=\"1.5\"></a>1.5 Implementing a Priority Queue\n",
    "\n",
    "### Solution"
   ]
  },
  {
   "cell_type": "code",
   "execution_count": 2,
   "metadata": {
    "collapsed": true
   },
   "outputs": [],
   "source": [
    "import heapq\n",
    "\n",
    "\n",
    "class PrioirtyQueue:\n",
    "    def __init__(self):\n",
    "        self._queue = []\n",
    "        self._index = 0\n",
    "        \n",
    "    def push(self, item, priority):\n",
    "        heapq.heappush(self._queue, (-priority, self._index, item))\n",
    "        self._index += 1\n",
    "        \n",
    "    def pop(self):\n",
    "        return heapq.heappop(self._queue)[-1]\n",
    "    \n",
    "    def is_empty(self):\n",
    "        return not bool(self._queue)"
   ]
  },
  {
   "cell_type": "code",
   "execution_count": 3,
   "metadata": {
    "collapsed": false
   },
   "outputs": [
    {
     "name": "stdout",
     "output_type": "stream",
     "text": [
      "Second\n",
      "Third\n",
      "Fourth\n",
      "First\n"
     ]
    }
   ],
   "source": [
    "pq = PrioirtyQueue()\n",
    "pq.push('First', 1)\n",
    "pq.push('Second', 5)\n",
    "pq.push('Third', 4)\n",
    "pq.push('Fourth', 3)\n",
    "\n",
    "while not pq.is_empty():\n",
    "    print(pq.pop())"
   ]
  },
  {
   "cell_type": "markdown",
   "metadata": {},
   "source": [
    "### Discussion\n",
    "On the first line in function `push`, `(-priority, self._index, item)` is a tuple that determines item sequence.  \n",
    "  \n",
    "It first considers the priorities of items.   \n",
    "If the priorities are the same, the input sequence (i.e. `self._index`) is used.  \n",
    "\n",
    "**This (using tuple) can be a useful technique when sorting objects**"
   ]
  },
  {
   "cell_type": "markdown",
   "metadata": {},
   "source": [
    "---\n",
    "## <a name=\"1.6\"></a>1.6 Mapping Keys to Multiple Values in a Dictionary\n",
    "### Solution"
   ]
  },
  {
   "cell_type": "code",
   "execution_count": 4,
   "metadata": {
    "collapsed": false
   },
   "outputs": [
    {
     "name": "stdout",
     "output_type": "stream",
     "text": [
      "defaultdict(<class 'list'>, {'a': [1, 2]})\n"
     ]
    }
   ],
   "source": [
    "from collections import defaultdict\n",
    "\n",
    "d = defaultdict(list)\n",
    "d['a'].append(1)\n",
    "d['a'].append(2)\n",
    "print(d)"
   ]
  },
  {
   "cell_type": "markdown",
   "metadata": {},
   "source": [
    "---\n",
    "## <a name=\"1.7\"></a>1.7 Keeping Dictionaries in Order\n",
    "### Solution\n",
    "```python\n",
    "from collections import OrderedDict\n",
    "```\n",
    "\n",
    "### Discussion\n",
    "The size of an `OrderedDict` is more than twice as large as a normal `dict` due to the extra linked list that's created."
   ]
  },
  {
   "cell_type": "markdown",
   "metadata": {},
   "source": [
    "---\n",
    "## <a name=\"1.9\"></a>1.9 Finding Commonalities in Two Dictionaries\n",
    "\n",
    "### Solutions"
   ]
  },
  {
   "cell_type": "code",
   "execution_count": 5,
   "metadata": {
    "collapsed": false
   },
   "outputs": [
    {
     "name": "stdout",
     "output_type": "stream",
     "text": [
      "{'c'}\n",
      "{'b', 'a'}\n",
      "{('c', 1)}\n"
     ]
    }
   ],
   "source": [
    "a = {'a': 1, 'b': 2, 'c': 1}\n",
    "b = {'c': 1, 'd': 3, 'e': 5}\n",
    "\n",
    "print(a.keys() & b.keys())\n",
    "print(a.keys() - b.keys())\n",
    "print(a.items() & b.items())"
   ]
  },
  {
   "cell_type": "markdown",
   "metadata": {},
   "source": [
    "This is also useful when filtering `dict` contents"
   ]
  },
  {
   "cell_type": "code",
   "execution_count": 6,
   "metadata": {
    "collapsed": false
   },
   "outputs": [
    {
     "name": "stdout",
     "output_type": "stream",
     "text": [
      "{'a': 1}\n"
     ]
    }
   ],
   "source": [
    "c = {key:a[key] for key in a.keys()-{'b', 'c'}}\n",
    "print(c)"
   ]
  },
  {
   "cell_type": "markdown",
   "metadata": {},
   "source": [
    "---\n",
    "## <a name=\"1.11\"></a>1.11 Naming a Slice\n",
    "\n",
    "### Problem\n",
    "The program has lots of unreadable hardcoded slices.\n",
    "\n",
    "e.g. "
   ]
  },
  {
   "cell_type": "code",
   "execution_count": 7,
   "metadata": {
    "collapsed": false
   },
   "outputs": [],
   "source": [
    "record = '----------1234567   ---------7654321   '\n",
    "cost = int(record[10:19])*int(record[30:39])"
   ]
  },
  {
   "cell_type": "markdown",
   "metadata": {},
   "source": [
    "### Solution"
   ]
  },
  {
   "cell_type": "code",
   "execution_count": 8,
   "metadata": {
    "collapsed": false
   },
   "outputs": [],
   "source": [
    "PRICE = slice(10, 19)\n",
    "SHARE = slice(30, 39)\n",
    "\n",
    "cost = int(record[PRICE])*int(record[SHARE])"
   ]
  },
  {
   "cell_type": "markdown",
   "metadata": {},
   "source": [
    "---\n",
    "## <a name=\"1.15\"></a> 1.15 Grouping Records Together Based on a Field\n",
    "\n",
    "### Solution\n",
    "```python\n",
    "from itertools import groupby\n",
    "```\n",
    "\n",
    "### Discussion\n",
    "***Note that the preliminary step is sorting the data according to the field of interest***"
   ]
  },
  {
   "cell_type": "markdown",
   "metadata": {},
   "source": [
    "---\n",
    "## <a name=\"1.18\"></a>1.18 Mapping Names to Sequence Elements\n",
    "\n",
    "### Solution"
   ]
  },
  {
   "cell_type": "code",
   "execution_count": 9,
   "metadata": {
    "collapsed": false
   },
   "outputs": [
    {
     "name": "stdout",
     "output_type": "stream",
     "text": [
      "abc@user.com\n",
      "091345678\n"
     ]
    }
   ],
   "source": [
    "from collections import namedtuple\n",
    "Subcriber = namedtuple('Subscriber', ['addr', 'phone'])\n",
    "sub = Subcriber('abc@user.com', '091345678')\n",
    "print(sub.addr)\n",
    "print(sub.phone)"
   ]
  },
  {
   "cell_type": "markdown",
   "metadata": {},
   "source": [
    "### Discussion\n",
    "- Using a `namedtuple` will be more efficient than `dict` when bulding large data strutures if update is not so frequent.\n",
    "    - If frequent update is needed, using a class with `__slots__` might be better (8.4)\n",
    "- **`namedtuple` is immutable**"
   ]
  },
  {
   "cell_type": "code",
   "execution_count": 10,
   "metadata": {
    "collapsed": false
   },
   "outputs": [
    {
     "ename": "AttributeError",
     "evalue": "can't set attribute",
     "output_type": "error",
     "traceback": [
      "\u001b[0;31m---------------------------------------------------------------------------\u001b[0m",
      "\u001b[0;31mAttributeError\u001b[0m                            Traceback (most recent call last)",
      "\u001b[0;32m<ipython-input-10-acafb366e999>\u001b[0m in \u001b[0;36m<module>\u001b[0;34m()\u001b[0m\n\u001b[0;32m----> 1\u001b[0;31m \u001b[0msub\u001b[0m\u001b[0;34m.\u001b[0m\u001b[0mphone\u001b[0m \u001b[0;34m=\u001b[0m \u001b[0;34m'0987654321'\u001b[0m\u001b[0;34m\u001b[0m\u001b[0m\n\u001b[0m",
      "\u001b[0;31mAttributeError\u001b[0m: can't set attribute"
     ]
    }
   ],
   "source": [
    "sub.phone = '0987654321'"
   ]
  },
  {
   "cell_type": "code",
   "execution_count": 11,
   "metadata": {
    "collapsed": false
   },
   "outputs": [
    {
     "data": {
      "text/plain": [
       "Subscriber(addr='abc@user.com', phone='0987654231')"
      ]
     },
     "execution_count": 11,
     "metadata": {},
     "output_type": "execute_result"
    }
   ],
   "source": [
    "# The _replace function creates a new namedtuple instead of update the content since namedtuple is immutable\n",
    "sub._replace(phone='0987654231')"
   ]
  },
  {
   "cell_type": "markdown",
   "metadata": {},
   "source": [
    "- This technique can be used to decoupling the code from the position of the elements"
   ]
  },
  {
   "cell_type": "markdown",
   "metadata": {},
   "source": [
    "---\n",
    "## <a name=\"1.20\"></a>1.20 Combining Multiple Mappings into a Single Mapping\n",
    "\n",
    "### Solution1"
   ]
  },
  {
   "cell_type": "code",
   "execution_count": 12,
   "metadata": {
    "collapsed": false
   },
   "outputs": [
    {
     "name": "stdout",
     "output_type": "stream",
     "text": [
      "1\n",
      "3\n",
      "6\n",
      "ChainMap({'b': 2, 'c': 3, 'a': 1}, {'c': 4, 'e': 6, 'd': 5})\n"
     ]
    }
   ],
   "source": [
    "d1 = {'a': 1, 'b': 2, 'c': 3}\n",
    "d2 = {'c': 4, 'd': 5, 'e': 6}\n",
    "\n",
    "from collections import ChainMap\n",
    "c = ChainMap(d1, d2)\n",
    "print(c['a'])\n",
    "print(c['c'])\n",
    "print(c['e'])\n",
    "print(c)"
   ]
  },
  {
   "cell_type": "markdown",
   "metadata": {},
   "source": [
    "- If duplicate key exist, the values from the first mapping get uesd.  \n",
    "- Operations that mutate the mapping always affect the first mapping listed.\n",
    "- Changing the values in `ChainMap` also changes the original dict"
   ]
  },
  {
   "cell_type": "markdown",
   "metadata": {},
   "source": [
    "### Solution2"
   ]
  },
  {
   "cell_type": "code",
   "execution_count": 13,
   "metadata": {
    "collapsed": false
   },
   "outputs": [
    {
     "name": "stdout",
     "output_type": "stream",
     "text": [
      "{'b': 2, 'c': 4, 'd': 5, 'a': 1, 'e': 6}\n"
     ]
    }
   ],
   "source": [
    "d1 = {'a': 1, 'b': 2, 'c': 3}\n",
    "d2 = {'c': 4, 'd': 5, 'e': 6}\n",
    "\n",
    "merged_d = dict(d1)\n",
    "merged_d.update(d2)\n",
    "print(merged_d)"
   ]
  },
  {
   "cell_type": "markdown",
   "metadata": {},
   "source": [
    "### Discusstion\n",
    "The main difference between two methods is that `ChainMap` use the original dicts while the other one creates new dicts"
   ]
  }
 ],
 "metadata": {
  "kernelspec": {
   "display_name": "Python 3",
   "language": "python",
   "name": "python3"
  },
  "language_info": {
   "codemirror_mode": {
    "name": "ipython",
    "version": 3
   },
   "file_extension": ".py",
   "mimetype": "text/x-python",
   "name": "python",
   "nbconvert_exporter": "python",
   "pygments_lexer": "ipython3",
   "version": "3.5.1"
  }
 },
 "nbformat": 4,
 "nbformat_minor": 0
}
