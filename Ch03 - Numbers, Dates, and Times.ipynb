{
 "cells": [
  {
   "cell_type": "markdown",
   "metadata": {},
   "source": [
    "# Table of Contents\n",
    "\n",
    "- [3.1 Rounding Numerical Values](#3.1)\n",
    "- [3.7 Working with Infinity and NaNs](#3.7)\n",
    "- [3.12 Converting Days to Seconds, and Other Basic Time Conversions](#3.12)\n",
    "- [3.14 Finding the Date Range for the Current Month](#3.14)\n",
    "- [3.15 Converting Strings into Datetimes](#3.15)"
   ]
  },
  {
   "cell_type": "markdown",
   "metadata": {},
   "source": [
    "---\n",
    "## <a name=\"3.1\"></a> 3.1 Rounding Numerical Values\n",
    "\n",
    "### Discussion\n",
    "\n",
    "`round()` can be negative, in which case rounding takes place for tens, hundreds, thousands"
   ]
  },
  {
   "cell_type": "code",
   "execution_count": 1,
   "metadata": {
    "collapsed": false
   },
   "outputs": [
    {
     "name": "stdout",
     "output_type": "stream",
     "text": [
      "123456790\n",
      "123456800\n",
      "123457000\n"
     ]
    }
   ],
   "source": [
    "print(round(123456789, -1))\n",
    "print(round(123456789, -2))\n",
    "print(round(123456789, -3))"
   ]
  },
  {
   "cell_type": "markdown",
   "metadata": {},
   "source": [
    "---\n",
    "## <a name=\"3.7\"></a> 3.7 Working with Infinity and NaNs"
   ]
  },
  {
   "cell_type": "code",
   "execution_count": 2,
   "metadata": {
    "collapsed": false
   },
   "outputs": [
    {
     "name": "stdout",
     "output_type": "stream",
     "text": [
      "inf -inf nan\n"
     ]
    }
   ],
   "source": [
    "a = float('inf')\n",
    "b = float('-inf')\n",
    "c = float('nan')\n",
    "\n",
    "print(a, b, c)"
   ]
  },
  {
   "cell_type": "code",
   "execution_count": 3,
   "metadata": {
    "collapsed": false
   },
   "outputs": [
    {
     "name": "stdout",
     "output_type": "stream",
     "text": [
      "True True True\n"
     ]
    }
   ],
   "source": [
    "import math\n",
    "\n",
    "print(math.isinf(a), math.isinf(b), math.isnan(c))"
   ]
  },
  {
   "cell_type": "markdown",
   "metadata": {},
   "source": [
    "### Discussion\n",
    "NaN vaules never compare as equal"
   ]
  },
  {
   "cell_type": "code",
   "execution_count": 4,
   "metadata": {
    "collapsed": false
   },
   "outputs": [
    {
     "name": "stdout",
     "output_type": "stream",
     "text": [
      "False False\n"
     ]
    }
   ],
   "source": [
    "c, d = float('nan'), float('nan')\n",
    "\n",
    "print(c == d, c is d)"
   ]
  },
  {
   "cell_type": "markdown",
   "metadata": {},
   "source": [
    "`math.isnan()` should be used"
   ]
  },
  {
   "cell_type": "code",
   "execution_count": 5,
   "metadata": {
    "collapsed": false
   },
   "outputs": [
    {
     "data": {
      "text/plain": [
       "True"
      ]
     },
     "execution_count": 5,
     "metadata": {},
     "output_type": "execute_result"
    }
   ],
   "source": [
    "math.isnan(c)"
   ]
  },
  {
   "cell_type": "markdown",
   "metadata": {},
   "source": [
    "---\n",
    "## <a name=\"3.12\"></a>3.12 Converting Days to Seconds, and Other Basic Time Conversions\n",
    "\n",
    "### Other Basic Time Conversions"
   ]
  },
  {
   "cell_type": "code",
   "execution_count": 6,
   "metadata": {
    "collapsed": false
   },
   "outputs": [
    {
     "data": {
      "text/plain": [
       "datetime.datetime(2016, 9, 24, 15, 39, 17, 772692)"
      ]
     },
     "execution_count": 6,
     "metadata": {},
     "output_type": "execute_result"
    }
   ],
   "source": [
    "from datetime import datetime, timedelta\n",
    "from dateutil.relativedelta import relativedelta\n",
    "\n",
    "a = datetime.now()\n",
    "a + relativedelta(months=+1)\n",
    "# Note the parameter month and months is different"
   ]
  },
  {
   "cell_type": "code",
   "execution_count": 7,
   "metadata": {
    "collapsed": false
   },
   "outputs": [],
   "source": [
    "d1 = datetime(2015, 7, 16)\n",
    "d2 = datetime(2016, 7, 12)\n",
    "\n",
    "d = relativedelta(d2, d1)"
   ]
  },
  {
   "cell_type": "code",
   "execution_count": 8,
   "metadata": {
    "collapsed": false
   },
   "outputs": [
    {
     "name": "stdout",
     "output_type": "stream",
     "text": [
      "11 26\n"
     ]
    }
   ],
   "source": [
    "print(d.months, d.days)"
   ]
  },
  {
   "cell_type": "markdown",
   "metadata": {},
   "source": [
    "## <a name=\"3.14\"></a>3.14 Finding the Date Range for the Current Month"
   ]
  },
  {
   "cell_type": "code",
   "execution_count": 9,
   "metadata": {
    "collapsed": false
   },
   "outputs": [
    {
     "name": "stdout",
     "output_type": "stream",
     "text": [
      "2012-09-01 00:00:00\n",
      "2012-09-02 00:00:00\n",
      "2012-09-03 00:00:00\n",
      "2012-09-04 00:00:00\n",
      "2012-09-05 00:00:00\n",
      "2012-09-06 00:00:00\n",
      "2012-09-07 00:00:00\n",
      "2012-09-08 00:00:00\n",
      "2012-09-09 00:00:00\n",
      "2012-09-10 00:00:00\n",
      "2012-09-11 00:00:00\n",
      "2012-09-12 00:00:00\n",
      "2012-09-13 00:00:00\n",
      "2012-09-14 00:00:00\n",
      "2012-09-15 00:00:00\n",
      "2012-09-16 00:00:00\n",
      "2012-09-17 00:00:00\n",
      "2012-09-18 00:00:00\n",
      "2012-09-19 00:00:00\n",
      "2012-09-20 00:00:00\n",
      "2012-09-21 00:00:00\n",
      "2012-09-22 00:00:00\n",
      "2012-09-23 00:00:00\n",
      "2012-09-24 00:00:00\n",
      "2012-09-25 00:00:00\n",
      "2012-09-26 00:00:00\n",
      "2012-09-27 00:00:00\n",
      "2012-09-28 00:00:00\n",
      "2012-09-29 00:00:00\n"
     ]
    }
   ],
   "source": [
    "def date_range(start, stop, step=None):\n",
    "    if not step:\n",
    "        step = timedelta(days=1)\n",
    "    while start < stop:\n",
    "        yield start\n",
    "        start += step\n",
    "        \n",
    "\n",
    "for d in date_range(datetime(2012, 9, 1), datetime(2012, 9, 30)):\n",
    "    print(d)"
   ]
  },
  {
   "cell_type": "markdown",
   "metadata": {},
   "source": [
    "---\n",
    "## <a name=\"3.15\"></a> 3.15 Converting Strings into Datetimes\n",
    "\n",
    "### Discussion\n",
    "\n",
    "- The performance of `strptime()` is low\n",
    "    - If parsing huge amount of dates is needed and precise format is known, writing your own parsing function would be recommanded\n"
   ]
  }
 ],
 "metadata": {
  "kernelspec": {
   "display_name": "Python 3",
   "language": "python",
   "name": "python3"
  },
  "language_info": {
   "codemirror_mode": {
    "name": "ipython",
    "version": 3
   },
   "file_extension": ".py",
   "mimetype": "text/x-python",
   "name": "python",
   "nbconvert_exporter": "python",
   "pygments_lexer": "ipython3",
   "version": "3.5.2"
  }
 },
 "nbformat": 4,
 "nbformat_minor": 1
}
