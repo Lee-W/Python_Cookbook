{
 "cells": [
  {
   "cell_type": "markdown",
   "metadata": {},
   "source": [
    "# Table of Content\n",
    "\n",
    "- [12.1 Starting and Stopping Threads](#12.1)\n",
    "- [12.4 Locking Critical Sections](#12.4)\n",
    "- [12.8 Performing Simple Parallel Programing](#12.8)\n",
    "- [12.9 Dealing with the GIL (and How to Stop Worring About it)](#12.9)"
   ]
  },
  {
   "cell_type": "markdown",
   "metadata": {},
   "source": [
    "---\n",
    "## <a name='12.1'></a> 12.1 Starting and Stopping Threads"
   ]
  },
  {
   "cell_type": "code",
   "execution_count": 1,
   "metadata": {
    "collapsed": false
   },
   "outputs": [
    {
     "name": "stdout",
     "output_type": "stream",
     "text": [
      "T-minux 10\n"
     ]
    }
   ],
   "source": [
    "import time\n",
    "from threading import Thread\n",
    "\n",
    "def countdown(n):\n",
    "    while n > 0:\n",
    "        print('T-minux', n)\n",
    "        n -= 1\n",
    "        time.sleep(5)\n",
    "        \n",
    "t = Thread(target=countdown, args=(10,))\n",
    "t.start()"
   ]
  },
  {
   "cell_type": "code",
   "execution_count": 2,
   "metadata": {
    "collapsed": false
   },
   "outputs": [
    {
     "name": "stdout",
     "output_type": "stream",
     "text": [
      "Still Running\n"
     ]
    }
   ],
   "source": [
    "if t.is_alive():\n",
    "    print('Still Running')\n",
    "else:\n",
    "    print('Completed')"
   ]
  },
  {
   "cell_type": "code",
   "execution_count": 3,
   "metadata": {
    "collapsed": false
   },
   "outputs": [
    {
     "name": "stdout",
     "output_type": "stream",
     "text": [
      "T-minux 9\n",
      "T-minux 8\n",
      "T-minux 7\n",
      "T-minux 6\n",
      "T-minux 5\n",
      "T-minux 4\n",
      "T-minux 3\n",
      "T-minux 2\n",
      "T-minux 1\n",
      "Completed\n"
     ]
    }
   ],
   "source": [
    "t.join()\n",
    "\n",
    "if t.is_alive():\n",
    "    print('Still Running')\n",
    "else:\n",
    "    print('Completed')"
   ]
  },
  {
   "cell_type": "markdown",
   "metadata": {},
   "source": [
    "### Discussion\n",
    "\n",
    "Due to Global Interpreter Lock(GIL), Python allows only one thread to exectute in the interpreter at any given time.\n",
    "\n",
    "Thus, Python threads are suited for\n",
    "- I/O handling\n",
    "- Concurrent execution that performs block opertations(e.g. waiting for I/O, waiting result from database)  \n",
    "\n",
    "and generally not be used for task that trying to achieve paralleism on multiple CPUs"
   ]
  },
  {
   "cell_type": "markdown",
   "metadata": {},
   "source": [
    "---\n",
    "\n",
    "## <a name='12.4'></a> 12.4 Locking Critical Sections"
   ]
  },
  {
   "cell_type": "code",
   "execution_count": 4,
   "metadata": {
    "collapsed": true
   },
   "outputs": [],
   "source": [
    "import threading\n",
    "\n",
    "class SharedCounter:\n",
    "    def __init__(self, initial_value=0):\n",
    "        self._value = initial_value\n",
    "        self._value_lock = threading.Lock()\n",
    "        \n",
    "    def incr(self, delta=1):\n",
    "        with self._value_lock:\n",
    "            self._value += delta\n",
    "            \n",
    "    def decr(self, delta=1):\n",
    "        with self._value_lock:\n",
    "            self._value -= delta"
   ]
  },
  {
   "cell_type": "markdown",
   "metadata": {},
   "source": [
    "A `Lock` guarantees that only one thread is allowed to execute the block of statements under the `with` statement"
   ]
  },
  {
   "cell_type": "markdown",
   "metadata": {},
   "source": [
    "---\n",
    "\n",
    "## <a name='12.8'></a> 12.8 Performing Simple Parallel Programing\n",
    "\n",
    "**`concurrent.futures`** library provides a **`ProcessPoolExecutor`** class that can be used to execute computatinoally intensive functions\n",
    "\n",
    "- Typical usage\n",
    "\n",
    "```python\n",
    "from concurrent.futures import ProcessPoolExecutor\n",
    "\n",
    "with ProcessPoolExecutor() as pool:\n",
    "    # Do work in parallel using pool\n",
    "```\n",
    "\n",
    "- Work must be submitted in the form of simple functions\n",
    "    - instance methods, colusrues and others are not supported\n",
    "- Arguments and return values must be compatible with **`pickle`**\n",
    "- Functions submitted for work should not maintain persistent state or have side effects"
   ]
  },
  {
   "cell_type": "markdown",
   "metadata": {},
   "source": [
    "---\n",
    "## <a name='12.9'></a> 12.9 Dealing with the GIL (and How to Stop Worring About it)\n",
    "\n",
    "Again, these techniques tend to only affect programs that are heavily CPU bound.  \n",
    "For doing I/O, such as network communication, threads are often a sensible choice\n",
    "\n",
    "### Method 1 - multiprocessing module\n",
    "\n",
    "```python\n",
    "pool = None\n",
    "\n",
    "# Performs a large calculation (CPU bound)\n",
    "def work(args):\n",
    "    ...\n",
    "    return result\n",
    "    \n",
    "# A thread that callas the above functin\n",
    "def some_thread():\n",
    "    while True:\n",
    "        ...\n",
    "        r = pool.apply(work, (args))\n",
    "        ...\n",
    "        \n",
    "if __name__ == '__main__':\n",
    "    import multiprocessing\n",
    "    pool = multiprocessing.Pool()\n",
    "```\n",
    "\n",
    "The pool hands the work to a separate Python interpreter running in a different process.  \n",
    "While the thread is waiting for the result, it releases the GIL\n",
    "\n",
    "### Method 2 - C extension\n",
    "Move computationally intensive tasks to C, and have the C code release the GIL.\n",
    "\n",
    "If other tools are used to access C, such as the ctypes or Cython, you may not need to do anything."
   ]
  }
 ],
 "metadata": {
  "kernelspec": {
   "display_name": "Python 3",
   "language": "python",
   "name": "python3"
  },
  "language_info": {
   "codemirror_mode": {
    "name": "ipython",
    "version": 3
   },
   "file_extension": ".py",
   "mimetype": "text/x-python",
   "name": "python",
   "nbconvert_exporter": "python",
   "pygments_lexer": "ipython3",
   "version": "3.5.2"
  }
 },
 "nbformat": 4,
 "nbformat_minor": 1
}
