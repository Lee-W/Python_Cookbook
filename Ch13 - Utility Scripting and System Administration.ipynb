{
 "cells": [
  {
   "cell_type": "markdown",
   "metadata": {},
   "source": [
    "# Table of Content\n",
    "\n",
    "- [13.4 Prompting for a Password at Runtime](#13.4)\n",
    "- [13.6 Executing an External Command and Getting Its Output](#13.6)\n",
    "- [13.13 Making a Stopwatch Time](#13.13)"
   ]
  },
  {
   "cell_type": "markdown",
   "metadata": {},
   "source": [
    "---\n",
    "## <a name='13.4'></a> 13.4 Prompting for a Password at Runtime\n",
    "\n",
    "### Solution"
   ]
  },
  {
   "cell_type": "code",
   "execution_count": 1,
   "metadata": {
    "collapsed": false
   },
   "outputs": [],
   "source": [
    "import getpass"
   ]
  },
  {
   "cell_type": "code",
   "execution_count": 2,
   "metadata": {
    "collapsed": false
   },
   "outputs": [
    {
     "data": {
      "text/plain": [
       "'LeeW'"
      ]
     },
     "execution_count": 2,
     "metadata": {},
     "output_type": "execute_result"
    }
   ],
   "source": [
    "# Get current user's login name\n",
    "\n",
    "getpass.getuser()"
   ]
  },
  {
   "cell_type": "code",
   "execution_count": 3,
   "metadata": {
    "collapsed": false
   },
   "outputs": [
    {
     "name": "stdout",
     "output_type": "stream",
     "text": [
      "········\n"
     ]
    },
    {
     "data": {
      "text/plain": [
       "'thisispasswrod'"
      ]
     },
     "execution_count": 3,
     "metadata": {},
     "output_type": "execute_result"
    }
   ],
   "source": [
    "getpass.getpass()"
   ]
  },
  {
   "cell_type": "markdown",
   "metadata": {},
   "source": [
    "---\n",
    "\n",
    "## <a name='13.6'></a> 13.6 Executing an External Command and Getting Its Output\n",
    "\n",
    "### Solution"
   ]
  },
  {
   "cell_type": "code",
   "execution_count": 4,
   "metadata": {
    "collapsed": false
   },
   "outputs": [
    {
     "name": "stdout",
     "output_type": "stream",
     "text": [
      "total 280\n",
      "-rw-r--r--  1 LeeW  staff  11555 10 12 10:06 Ch01 - Data Structures and Algorithms.ipynb\n",
      "-rw-r--r--  1 LeeW  staff   7466 10 12 10:11 Ch02 - Strings and Text.ipynb\n",
      "-rw-r--r--  1 LeeW  staff   6736  8 24 15:45 Ch03 - Numbers, Dates, and Times.ipynb\n",
      "-rw-r--r--  1 LeeW  staff   5694  8 29 11:06 Ch04 - Iterators and Generators.ipynb\n",
      "-rw-r--r--  1 LeeW  staff   2872  9  5 11:02 Ch05 - Files and IO.ipynb\n",
      "-rw-r--r--  1 LeeW  staff   9603  9  5 11:49 Ch06 - Data Encoding and Processing.ipynb\n",
      "-rw-r--r--  1 LeeW  staff   6840 10 24 10:13 Ch07 - Functions.ipynb\n",
      "-rw-r--r--  1 LeeW  staff  24293 10 24 10:12 Ch08 - Classes and Objects.ipynb\n",
      "-rw-r--r--  1 LeeW  staff  16889 10 24 10:11 Ch09 - Metaprogramming.ipynb\n",
      "-rw-r--r--  1 LeeW  staff   4755 11  2 15:42 Ch10 - Modules and Packages.ipynb\n",
      "-rw-r--r--  1 LeeW  staff   6256 12  5 11:06 Ch12 - Concurrency.ipynb\n",
      "-rw-r--r--  1 LeeW  staff   4068 12 12 10:22 Ch13 - Utility Scripting and System Administration.ipynb\n",
      "-rw-r--r--  1 LeeW  staff  10344 11 14 10:33 Ch14 - Testing, Debugging, and Exceptions.ipynb\n",
      "-rw-r--r--  1 LeeW  staff   3302 12  5 11:06 README.md\n",
      "drwxr-xr-x  4 LeeW  staff    136 10 31 11:36 ch10\n",
      "\n"
     ]
    }
   ],
   "source": [
    "import subprocess\n",
    "\n",
    "out_bytes = subprocess.check_output(['ls', '-l'])\n",
    "print(out_bytes.decode('utf-8'))"
   ]
  },
  {
   "cell_type": "markdown",
   "metadata": {},
   "source": [
    "---\n",
    "\n",
    "## <a name='13.13'></a> 13.13 Making a Stopwatch Time\n",
    "\n",
    "### Solution"
   ]
  },
  {
   "cell_type": "code",
   "execution_count": 5,
   "metadata": {
    "collapsed": false
   },
   "outputs": [],
   "source": [
    "import time\n",
    "\n",
    "\n",
    "class Timer:\n",
    "    def __init__(self, func=time.perf_counter):\n",
    "        self.elapsed = 0.0\n",
    "        self._func = func\n",
    "        self._start = None\n",
    "        \n",
    "    def start(self):\n",
    "        if self._start is not None:\n",
    "            raise RuntimeError('Already started')\n",
    "        self._start = self._func()\n",
    "        \n",
    "    def stop(self):\n",
    "        if self._start is None:\n",
    "            raise RuntimeError('Not started')\n",
    "        end = self._func()\n",
    "        self.elapsed += end - self._start\n",
    "        self._start =None\n",
    "        \n",
    "    def reset(self):\n",
    "        self.elapsed == 0\n",
    "        \n",
    "    @property\n",
    "    def running(self):\n",
    "        return self._start is not None\n",
    "    \n",
    "    def __enter__(self):\n",
    "        self.start()\n",
    "        return self\n",
    "    \n",
    "    def __exit__(self, *args):\n",
    "        self.stop()"
   ]
  },
  {
   "cell_type": "code",
   "execution_count": 6,
   "metadata": {
    "collapsed": false
   },
   "outputs": [
    {
     "data": {
      "text/plain": [
       "0.6108274689759128"
      ]
     },
     "execution_count": 6,
     "metadata": {},
     "output_type": "execute_result"
    }
   ],
   "source": [
    "with Timer() as t:\n",
    "    for _ in range(10000000):\n",
    "        pass\n",
    "    \n",
    "t.elapsed"
   ]
  },
  {
   "cell_type": "markdown",
   "metadata": {},
   "source": [
    "### Discussion\n",
    "\n",
    "- `time.time()` or `time.clock()` varies according to operating system\n",
    "- `time.perf_counter()` always uses the highest-resolution timer available on the system"
   ]
  }
 ],
 "metadata": {
  "kernelspec": {
   "display_name": "Python 3",
   "language": "python",
   "name": "python3"
  },
  "language_info": {
   "codemirror_mode": {
    "name": "ipython",
    "version": 3
   },
   "file_extension": ".py",
   "mimetype": "text/x-python",
   "name": "python",
   "nbconvert_exporter": "python",
   "pygments_lexer": "ipython3",
   "version": "3.5.2"
  }
 },
 "nbformat": 4,
 "nbformat_minor": 1
}
