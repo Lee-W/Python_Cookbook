{
 "cells": [
  {
   "cell_type": "markdown",
   "metadata": {},
   "source": [
    "# Table of Content\n",
    "\n",
    "- [8.1 Changing the String Representation of Instances](#8.1)\n",
    "- [8.5 Encapsulating Names in a Class](#8.5)"
   ]
  },
  {
   "cell_type": "markdown",
   "metadata": {},
   "source": [
    "---\n",
    "## <a name=\"8.1\"></a> 8.1 Changing the String Representation of Instances\n",
    "\n",
    "### Solution\n",
    "Define `__str__` or `__repr__`\n",
    "\n",
    "### Discussion\n",
    "Using `format()` with `self` to implement `__repr__`  \n",
    "(`!r` indicates that the output of `__repr__` should be used instead of `__str__`)"
   ]
  },
  {
   "cell_type": "code",
   "execution_count": 1,
   "metadata": {
    "collapsed": false
   },
   "outputs": [
    {
     "name": "stdout",
     "output_type": "stream",
     "text": [
      "x: 1 y: 2\n"
     ]
    }
   ],
   "source": [
    "class Class:\n",
    "    def __init__(self):\n",
    "        self.x = 1\n",
    "        self.y = 2\n",
    "    \n",
    "    def __repr__(self):\n",
    "        return 'x: {0.x!r} y: {0.y}'.format(self)\n",
    "    \n",
    "\n",
    "c = Class()\n",
    "print(c)"
   ]
  },
  {
   "cell_type": "markdown",
   "metadata": {},
   "source": [
    "---\n",
    "## <a name=\"8.5\"></a> 8.5 Encapsulating Names in a Class\n",
    "\n",
    "### Solution\n",
    "\n",
    "- `_name`: Internal implementation\n",
    "- `__name`: Private. These attributes will be renamed as `_class__name`\n",
    "- `name_`: Used when `name` clashes with reserved word\n",
    "\n",
    "### Discussion\n",
    "Most time, `_name` should be enough.  \n",
    "`__name` should be used when your code will involve subcalssing and these attributes should be hidden from subclasses"
   ]
  }
 ],
 "metadata": {
  "kernelspec": {
   "display_name": "Python 3",
   "language": "python",
   "name": "python3"
  },
  "language_info": {
   "codemirror_mode": {
    "name": "ipython",
    "version": 3
   },
   "file_extension": ".py",
   "mimetype": "text/x-python",
   "name": "python",
   "nbconvert_exporter": "python",
   "pygments_lexer": "ipython3",
   "version": "3.5.2"
  }
 },
 "nbformat": 4,
 "nbformat_minor": 1
}
