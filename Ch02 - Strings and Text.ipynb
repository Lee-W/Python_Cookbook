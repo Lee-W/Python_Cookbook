{
 "cells": [
  {
   "cell_type": "markdown",
   "metadata": {},
   "source": [
    "# Table of Content\n",
    "- [2.4 Matching and Searching for Text Patterns](#2.4)\n",
    "- [2.7 Specifying a Regular Expression for the Shortest Match](#2.7)\n",
    "- [2.8 Writing a Regular Expression for Multiline Patterns](#2.8)\n",
    "- [2.14 Combining and Concatenating Strings](#2.14)"
   ]
  },
  {
   "cell_type": "markdown",
   "metadata": {},
   "source": [
    "---\n",
    "## <a name=\"2.4\"></a>2.4 Matching and Searching for Text Patterns\n",
    "\n",
    "### Solution"
   ]
  },
  {
   "cell_type": "code",
   "execution_count": 1,
   "metadata": {
    "collapsed": true
   },
   "outputs": [],
   "source": [
    "import re\n",
    "\n",
    "t1 = '12/25/2016'\n",
    "t2 = 'Dec 25, 2016'"
   ]
  },
  {
   "cell_type": "code",
   "execution_count": 2,
   "metadata": {
    "collapsed": false
   },
   "outputs": [
    {
     "name": "stdout",
     "output_type": "stream",
     "text": [
      "True\n",
      "False\n"
     ]
    }
   ],
   "source": [
    "print(bool(re.match(r'\\d+/\\d+/\\d+', t1)))\n",
    "print(bool(re.match(r'\\d+/\\d+/\\d+', t2)))"
   ]
  },
  {
   "cell_type": "markdown",
   "metadata": {},
   "source": [
    "- If the same pattern is to be performd several times, it usually pays to precompile it."
   ]
  },
  {
   "cell_type": "code",
   "execution_count": 3,
   "metadata": {
    "collapsed": false
   },
   "outputs": [
    {
     "name": "stdout",
     "output_type": "stream",
     "text": [
      "True\n",
      "False\n"
     ]
    }
   ],
   "source": [
    "datepat = re.compile(r'\\d+/\\d+/\\d+')\n",
    "\n",
    "print(bool(datepat.match(t1)))\n",
    "print(bool(datepat.match(t2)))"
   ]
  },
  {
   "cell_type": "markdown",
   "metadata": {},
   "source": [
    "`match` returns only the first occurence.  \n",
    "If all occurences are needed, `findall()` should be used."
   ]
  },
  {
   "cell_type": "code",
   "execution_count": 4,
   "metadata": {
    "collapsed": false
   },
   "outputs": [
    {
     "data": {
      "text/plain": [
       "['12/25/2016', '12/26/2016', '12/27/2017']"
      ]
     },
     "execution_count": 4,
     "metadata": {},
     "output_type": "execute_result"
    }
   ],
   "source": [
    "t3 = '12/25/2016 ------ 12/26/2016 ----- 12/27/2017'\n",
    "\n",
    "datepat.findall(t3)"
   ]
  },
  {
   "cell_type": "markdown",
   "metadata": {},
   "source": [
    "- Matching iteratively: `finditer`"
   ]
  },
  {
   "cell_type": "code",
   "execution_count": 5,
   "metadata": {
    "collapsed": false
   },
   "outputs": [
    {
     "name": "stdout",
     "output_type": "stream",
     "text": [
      "12/25/2016\n",
      "12/26/2016\n",
      "12/27/2017\n"
     ]
    }
   ],
   "source": [
    "for m in datepat.finditer(t3):\n",
    "    print(m.group())"
   ]
  },
  {
   "cell_type": "markdown",
   "metadata": {},
   "source": [
    "- Capteruring re groups"
   ]
  },
  {
   "cell_type": "code",
   "execution_count": 6,
   "metadata": {
    "collapsed": false
   },
   "outputs": [
    {
     "name": "stdout",
     "output_type": "stream",
     "text": [
      "12/25/2016\n",
      "12\n",
      "25\n",
      "2016\n",
      "('12', '25', '2016')\n"
     ]
    }
   ],
   "source": [
    "datepat = re.compile(r'(\\d+)/(\\d+)/(\\d+)')\n",
    "\n",
    "m = datepat.match(t1)\n",
    "print(m.group(0))\n",
    "print(m.group(1))\n",
    "print(m.group(2))\n",
    "print(m.group(3))\n",
    "print(m.groups())"
   ]
  },
  {
   "cell_type": "markdown",
   "metadata": {},
   "source": [
    "---\n",
    "## <a name=\"2.7\"></a> 2.7 Specifying a Regular Expression for the Shortest Match"
   ]
  },
  {
   "cell_type": "code",
   "execution_count": 7,
   "metadata": {
    "collapsed": false
   },
   "outputs": [
    {
     "data": {
      "text/plain": [
       "['First Word\" \"Second Word']"
      ]
     },
     "execution_count": 7,
     "metadata": {},
     "output_type": "execute_result"
    }
   ],
   "source": [
    "pat = re.compile(r'\\\"(.*)\\\"')\n",
    "\n",
    "s1 = '\"First Word\" \"Second Word\"'\n",
    "pat.findall(s1)"
   ]
  },
  {
   "cell_type": "markdown",
   "metadata": {},
   "source": [
    "### Solution"
   ]
  },
  {
   "cell_type": "code",
   "execution_count": 8,
   "metadata": {
    "collapsed": false
   },
   "outputs": [
    {
     "data": {
      "text/plain": [
       "['First Word', 'Second Word']"
      ]
     },
     "execution_count": 8,
     "metadata": {},
     "output_type": "execute_result"
    }
   ],
   "source": [
    "pat_non_greedy = re.compile(r'\\\"(.*?)\\\"')\n",
    "\n",
    "pat_non_greedy.findall(s1)"
   ]
  },
  {
   "cell_type": "markdown",
   "metadata": {},
   "source": [
    "\n",
    "- \\* operator is greedy.  \n",
    "    - Add the ? modifier after the \\* operator to make it non-greedy"
   ]
  },
  {
   "cell_type": "markdown",
   "metadata": {},
   "source": [
    "---\n",
    "## <a name=\"2.8\"></a>2.8 Writing a Regular Expression for Multiline Patterns"
   ]
  },
  {
   "cell_type": "code",
   "execution_count": 9,
   "metadata": {
    "collapsed": false
   },
   "outputs": [
    {
     "data": {
      "text/plain": [
       "[]"
      ]
     },
     "execution_count": 9,
     "metadata": {},
     "output_type": "execute_result"
    }
   ],
   "source": [
    "pat = re.compile(r'/\\*(.*?)\\*/')\n",
    "\n",
    "t1 = \"/* 123 \\n 456 */\"\n",
    "pat.findall(t1)"
   ]
  },
  {
   "cell_type": "markdown",
   "metadata": {},
   "source": [
    "### Solution"
   ]
  },
  {
   "cell_type": "code",
   "execution_count": 10,
   "metadata": {
    "collapsed": false
   },
   "outputs": [
    {
     "data": {
      "text/plain": [
       "[' 123 \\n 456 ']"
      ]
     },
     "execution_count": 10,
     "metadata": {},
     "output_type": "execute_result"
    }
   ],
   "source": [
    "pat_non_capture_group = re.compile(r'/\\*((?:.|\\n)*?)\\*/')\n",
    "pat_non_capture_group.findall(t1)"
   ]
  },
  {
   "cell_type": "markdown",
   "metadata": {},
   "source": [
    "- ***?:*** is used to sepcify non-capture group\n",
    "    - (i.e. a group for the purpose of matching, but not being captured)"
   ]
  },
  {
   "cell_type": "markdown",
   "metadata": {},
   "source": [
    "---\n",
    "## <a name=\"2.14\"></a>2.14 Combining and Concatenating Strings\n",
    "\n",
    "### Discussion\n",
    "- Using + to join a lot of strings is inefficient and not recommanded\n",
    "- Sometimes concatenation is not necessary"
   ]
  },
  {
   "cell_type": "code",
   "execution_count": 11,
   "metadata": {
    "collapsed": false
   },
   "outputs": [
    {
     "name": "stdout",
     "output_type": "stream",
     "text": [
      "1:2:3\n",
      "1:2:3\n",
      "1:2:3\n"
     ]
    }
   ],
   "source": [
    "a, b, c= \"123\"\n",
    "\n",
    "print(a+\":\"+b+\":\"+c)          # Worst\n",
    "print(':'.join([a, b, c]))    # Still bad\n",
    "\n",
    "print(a, b, c, sep=':')       # Better"
   ]
  }
 ],
 "metadata": {
  "kernelspec": {
   "display_name": "Python 3",
   "language": "python",
   "name": "python3"
  },
  "language_info": {
   "codemirror_mode": {
    "name": "ipython",
    "version": 3
   },
   "file_extension": ".py",
   "mimetype": "text/x-python",
   "name": "python",
   "nbconvert_exporter": "python",
   "pygments_lexer": "ipython3",
   "version": "3.5.2"
  }
 },
 "nbformat": 4,
 "nbformat_minor": 1
}
