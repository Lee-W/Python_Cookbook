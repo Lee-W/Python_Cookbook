{
 "cells": [
  {
   "cell_type": "markdown",
   "metadata": {},
   "source": [
    "# Table of Content\n",
    "- [7.8 Making an N-argument Callable Work As a Callable with Fewer Arguments](#7.8)\n",
    "- [7.9 Replacing Single Method Classes with Functions](#7.9)\n",
    "- [7.10 Carring Extra State with Callback Functions](#7.10)"
   ]
  },
  {
   "cell_type": "markdown",
   "metadata": {},
   "source": [
    "---\n",
    "## <a name=\"7.8\"></a> 7.8 Making an N-argument Callable Work As a Callable with Fewer Arguments \n",
    "\n",
    "### Solution"
   ]
  },
  {
   "cell_type": "code",
   "execution_count": 1,
   "metadata": {
    "collapsed": true
   },
   "outputs": [],
   "source": [
    "def add(a, b):\n",
    "    return a + b"
   ]
  },
  {
   "cell_type": "code",
   "execution_count": 2,
   "metadata": {
    "collapsed": true
   },
   "outputs": [],
   "source": [
    "from functools import partial\n",
    "\n",
    "add_1 = partial(add, 1)"
   ]
  },
  {
   "cell_type": "code",
   "execution_count": 3,
   "metadata": {
    "collapsed": false
   },
   "outputs": [
    {
     "data": {
      "text/plain": [
       "6"
      ]
     },
     "execution_count": 3,
     "metadata": {},
     "output_type": "execute_result"
    }
   ],
   "source": [
    "add_1(5)"
   ]
  },
  {
   "cell_type": "markdown",
   "metadata": {},
   "source": [
    "This is particular useful in callback function.  \n",
    "Further usage will be mentioned in 7.10"
   ]
  },
  {
   "cell_type": "markdown",
   "metadata": {},
   "source": [
    "---\n",
    "## <a name=\"7.9\"></a> 7.9 Replacing Single Method Classes with Functions\n",
    "\n",
    "### Solution"
   ]
  },
  {
   "cell_type": "code",
   "execution_count": 4,
   "metadata": {
    "collapsed": false
   },
   "outputs": [
    {
     "data": {
      "text/plain": [
       "15"
      ]
     },
     "execution_count": 4,
     "metadata": {},
     "output_type": "execute_result"
    }
   ],
   "source": [
    "class AddConstant:\n",
    "    def __init__(self, constant):\n",
    "        self.constant = constant\n",
    "        \n",
    "    def add(self, other_num):\n",
    "        return self.constant + other_num\n",
    "    \n",
    "add_5 = AddConstant(5)\n",
    "add_5.add(10)"
   ]
  },
  {
   "cell_type": "code",
   "execution_count": 5,
   "metadata": {
    "collapsed": false
   },
   "outputs": [
    {
     "data": {
      "text/plain": [
       "15"
      ]
     },
     "execution_count": 5,
     "metadata": {},
     "output_type": "execute_result"
    }
   ],
   "source": [
    "def add_constant(constant):\n",
    "    def add(other_num):\n",
    "        return constant + other_num\n",
    "    return add\n",
    "\n",
    "add_5 = add_constant(5)\n",
    "add_5(10)"
   ]
  },
  {
   "cell_type": "markdown",
   "metadata": {},
   "source": [
    "### Discussion\n",
    "In many cases, the only reason you might have a single-method class is to store additional state for use in the method.  \n",
    "Using an inner function or closure is often more elegant.  \n",
    "Simply stated, a closure is just a function, but with an extra environment of the variables that are used inside the function"
   ]
  },
  {
   "cell_type": "markdown",
   "metadata": {},
   "source": [
    "---\n",
    "## <a name=\"7.10\"></a> 7.10 Carring Extra State with Callback Functions\n",
    "\n",
    "### Soultion 1"
   ]
  },
  {
   "cell_type": "code",
   "execution_count": 6,
   "metadata": {
    "collapsed": false
   },
   "outputs": [
    {
     "name": "stdout",
     "output_type": "stream",
     "text": [
      "[1] First\n",
      "[2] Second\n"
     ]
    }
   ],
   "source": [
    "class CallCounter:\n",
    "    def __init__(self):\n",
    "        self.count = 0\n",
    "        \n",
    "    def call(self, msg):\n",
    "        self.count += 1\n",
    "        print('[{}] {}'.format(self.count, msg))\n",
    "        \n",
    "c = CallCounter()\n",
    "c.call('First')\n",
    "c.call('Second')"
   ]
  },
  {
   "cell_type": "markdown",
   "metadata": {},
   "source": [
    "### Soultion 2"
   ]
  },
  {
   "cell_type": "code",
   "execution_count": 7,
   "metadata": {
    "collapsed": false
   },
   "outputs": [
    {
     "name": "stdout",
     "output_type": "stream",
     "text": [
      "[1] First\n",
      "[2] Second\n"
     ]
    }
   ],
   "source": [
    "def make_counter():\n",
    "    count = 0\n",
    "    def call(msg):\n",
    "        nonlocal count\n",
    "        count += 1\n",
    "        print('[{}] {}'.format(count, msg))\n",
    "    return call\n",
    "\n",
    "c = make_counter()\n",
    "c('First')\n",
    "c('Second')"
   ]
  },
  {
   "cell_type": "markdown",
   "metadata": {},
   "source": [
    "### Soultion 3"
   ]
  },
  {
   "cell_type": "code",
   "execution_count": 8,
   "metadata": {
    "collapsed": false
   },
   "outputs": [
    {
     "name": "stdout",
     "output_type": "stream",
     "text": [
      "[1] First\n",
      "[2] Second\n"
     ]
    }
   ],
   "source": [
    "def make_counter():\n",
    "    count = 0\n",
    "    while True:\n",
    "        msg = yield\n",
    "        count += 1\n",
    "        print('[{}] {}'.format(count, msg))\n",
    "        \n",
    "c = make_counter()\n",
    "next(c)\n",
    "c.send('First')\n",
    "c.send('Second')"
   ]
  },
  {
   "cell_type": "markdown",
   "metadata": {},
   "source": [
    "### Soultion 4"
   ]
  },
  {
   "cell_type": "code",
   "execution_count": 9,
   "metadata": {
    "collapsed": false
   },
   "outputs": [
    {
     "name": "stdout",
     "output_type": "stream",
     "text": [
      "[1] First\n",
      "[2] Second\n"
     ]
    }
   ],
   "source": [
    "from functools import partial\n",
    "\n",
    "\n",
    "class CounterNo:\n",
    "    def __init__(self):\n",
    "        self.count = 0\n",
    "        \n",
    "def call(msg, counter):\n",
    "    counter.count += 1\n",
    "    print('[{}] {}'.format(counter.count, msg))\n",
    "\n",
    "c = partial(call, counter=CounterNo())\n",
    "c('First')\n",
    "c('Second')"
   ]
  },
  {
   "cell_type": "markdown",
   "metadata": {
    "collapsed": true
   },
   "source": [
    "### Discussion\n",
    "Closures might be a bit more lightweight and natrual to solve the problem.  \n",
    "If using closuers, you need to pay careful attention to mutable variables"
   ]
  }
 ],
 "metadata": {
  "kernelspec": {
   "display_name": "Python 3",
   "language": "python",
   "name": "python3"
  },
  "language_info": {
   "codemirror_mode": {
    "name": "ipython",
    "version": 3
   },
   "file_extension": ".py",
   "mimetype": "text/x-python",
   "name": "python",
   "nbconvert_exporter": "python",
   "pygments_lexer": "ipython3",
   "version": "3.5.2"
  }
 },
 "nbformat": 4,
 "nbformat_minor": 1
}
