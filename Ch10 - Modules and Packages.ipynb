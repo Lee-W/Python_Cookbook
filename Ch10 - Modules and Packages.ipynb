{
 "cells": [
  {
   "cell_type": "markdown",
   "metadata": {},
   "source": [
    "# Table of Content\n",
    "- [10.4 Splitting a Module into Multiple Files](#10.4)\n",
    "- [10.6 Reloading Modules](#10.6)\n",
    "- [10.8 Reading Datafiles Within a Package](#10.8)"
   ]
  },
  {
   "cell_type": "markdown",
   "metadata": {},
   "source": [
    "---\n",
    "## <a name=\"10.4\"></a> 10.4 Splitting a Module into Multiple Files\n",
    "\n",
    "e.g. \n",
    "\n",
    "```python\n",
    "# mymodule.py\n",
    "\n",
    "class A:\n",
    "    def spam(self):\n",
    "        print('A.spam')\n",
    "        \n",
    "class B(A):\n",
    "    def bar(self):\n",
    "        print('B.bar')\n",
    "```\n",
    "\n",
    "### Solution\n",
    "- Directory Structure\n",
    "```\n",
    "mymodule/\n",
    "    __init__.py\n",
    "    a.py\n",
    "    b.py\n",
    "```\n",
    "\n",
    "- a.py\n",
    "\n",
    "```python\n",
    "# a.py\n",
    "\n",
    "class A:\n",
    "    def spam(self):\n",
    "        print('A.spam')\n",
    "```\n",
    "\n",
    "- b.py\n",
    "\n",
    "```python\n",
    "# b.py\n",
    "\n",
    "class B\n",
    "    def bar(self):\n",
    "       print('B.bar') \n",
    "```\n",
    "\n",
    "- `__init__.py`\n",
    "\n",
    "```python\n",
    "# __init__.py\n",
    "\n",
    "from .a import A\n",
    "from .b import B\n",
    "```\n",
    "\n",
    "By doing so, you can use **`from mymodule import A`** and **`from mymodule import B`**\n",
    "\n",
    "This is a design question of whether or not you want users to work with a lot of small modules or just single module\n",
    "\n",
    "### Discussion\n",
    "\n",
    "This can also be used as \"Lazy Import\".\n",
    "\n",
    "e.g.\n",
    "```python\n",
    "# __init__.py\n",
    "\n",
    "def A():\n",
    "    from .a import A\n",
    "    return A()\n",
    "    \n",
    "def B():\n",
    "    from .b import B\n",
    "    return B()\n",
    "```\n",
    "\n",
    "The main downside of it is that inheritance and type checking might break.\n",
    "e.g.  \n",
    "```python\n",
    "x = mymodule.A()\n",
    "\n",
    "isinstnace(x, mymodule.A)   # Error\n",
    "isinstnace(x, mymodule.a.A) # Pass\n",
    "```"
   ]
  },
  {
   "cell_type": "markdown",
   "metadata": {},
   "source": [
    "---\n",
    "## <a name=\"10.6\"></a> 10.6 Reloading Modules\n",
    "\n",
    "### Solution"
   ]
  },
  {
   "cell_type": "code",
   "execution_count": 1,
   "metadata": {
    "collapsed": false
   },
   "outputs": [
    {
     "data": {
      "text/plain": [
       "<module 'os' from '/Users/LeeW/anaconda/lib/python3.5/os.py'>"
      ]
     },
     "execution_count": 1,
     "metadata": {},
     "output_type": "execute_result"
    }
   ],
   "source": [
    "import os\n",
    "import imp\n",
    "imp.reload(os)"
   ]
  },
  {
   "cell_type": "markdown",
   "metadata": {},
   "source": [
    "### Discussion\n",
    "This is often used to debug.  \n",
    "Never safe in production code.  \n",
    "The behavior might be unexpected"
   ]
  },
  {
   "cell_type": "markdown",
   "metadata": {},
   "source": [
    "---\n",
    "## <a name='10.8'></a>10.8 Reading Datafiles Within a Package\n",
    "\n",
    "```\n",
    "ch10/mypackage/\n",
    "        __init__.py\n",
    "        somedata.dat\n",
    "        spam.py\n",
    "```\n",
    "### Solution\n",
    "\n",
    "Use `pkgutil`\n",
    "\n",
    "```python\n",
    "\n",
    "# ch10/mypackage/spam.py\n",
    "import pkgutil\n",
    "\n",
    "data = pkgutil.get_data(__package__, 'somedata.dat')\n",
    "print('Data from', data)\n",
    "```\n",
    "It returns byte string."
   ]
  },
  {
   "cell_type": "code",
   "execution_count": 2,
   "metadata": {
    "collapsed": false
   },
   "outputs": [
    {
     "name": "stdout",
     "output_type": "stream",
     "text": [
      "Data from  b'This is data'\n"
     ]
    }
   ],
   "source": [
    "from ch10.mypackage import spam"
   ]
  },
  {
   "cell_type": "markdown",
   "metadata": {},
   "source": [
    "---\n",
    "## <a name=\"10.13\"></a> 10.13 Installing Packages Just for Yourself\n",
    "\n",
    "Assuming that you don't have the permission.\n",
    "\n",
    "### Solution\n",
    "\n",
    "```sh\n",
    "pip install --user packagename\n",
    "```"
   ]
  }
 ],
 "metadata": {
  "kernelspec": {
   "display_name": "Python 3",
   "language": "python",
   "name": "python3"
  },
  "language_info": {
   "codemirror_mode": {
    "name": "ipython",
    "version": 3
   },
   "file_extension": ".py",
   "mimetype": "text/x-python",
   "name": "python",
   "nbconvert_exporter": "python",
   "pygments_lexer": "ipython3",
   "version": "3.5.2"
  }
 },
 "nbformat": 4,
 "nbformat_minor": 1
}
